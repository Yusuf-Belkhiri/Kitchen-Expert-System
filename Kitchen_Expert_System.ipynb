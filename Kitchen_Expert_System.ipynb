{
  "nbformat": 4,
  "nbformat_minor": 0,
  "metadata": {
    "colab": {
      "provenance": [],
      "include_colab_link": true
    },
    "kernelspec": {
      "name": "python3",
      "display_name": "Python 3"
    },
    "language_info": {
      "name": "python"
    }
  },
  "cells": [
    {
      "cell_type": "markdown",
      "metadata": {
        "id": "view-in-github",
        "colab_type": "text"
      },
      "source": [
        "<a href=\"https://colab.research.google.com/github/Yusuf-Belkhiri/Kitchen-Expert-System/blob/main/Kitchen_Expert_System.ipynb\" target=\"_parent\"><img src=\"https://colab.research.google.com/assets/colab-badge.svg\" alt=\"Open In Colab\"/></a>"
      ]
    },
    {
      "cell_type": "code",
      "execution_count": null,
      "metadata": {
        "id": "IAqiQr_S_DNf",
        "colab": {
          "base_uri": "https://localhost:8080/"
        },
        "outputId": "8941a3f1-2d99-4d02-91e9-538b570c948f"
      },
      "outputs": [
        {
          "output_type": "stream",
          "name": "stdout",
          "text": [
            "Cloning into 'aima-python'...\n",
            "remote: Enumerating objects: 5095, done.\u001b[K\n",
            "remote: Total 5095 (delta 0), reused 0 (delta 0), pack-reused 5095\u001b[K\n",
            "Receiving objects: 100% (5095/5095), 17.44 MiB | 17.32 MiB/s, done.\n",
            "Resolving deltas: 100% (3418/3418), done.\n",
            "/content/aima-python\n",
            "\n",
            "Usage:   \n",
            "  pip3 <command> [options]\n",
            "\n",
            "no such option: -r\n",
            "Submodule 'aima-data' (https://github.com/aimacode/aima-data.git) registered for path 'aima-data'\n",
            "Cloning into '/content/aima-python/aima-data'...\n",
            "Submodule path 'aima-data': checked out 'f6cbea61ad0c21c6b7be826d17af5a8d3a7c2c86'\n",
            "Looking in indexes: https://pypi.org/simple, https://us-python.pkg.dev/colab-wheels/public/simple/\n",
            "Collecting ipythonblocks\n",
            "  Downloading ipythonblocks-1.9.0-py2.py3-none-any.whl (13 kB)\n",
            "Requirement already satisfied: requests>=1.0 in /usr/local/lib/python3.10/dist-packages (from ipythonblocks) (2.27.1)\n",
            "Requirement already satisfied: ipython>=4.0 in /usr/local/lib/python3.10/dist-packages (from ipythonblocks) (7.34.0)\n",
            "Requirement already satisfied: notebook>=4.0 in /usr/local/lib/python3.10/dist-packages (from ipythonblocks) (6.4.8)\n",
            "Requirement already satisfied: prompt-toolkit!=3.0.0,!=3.0.1,<3.1.0,>=2.0.0 in /usr/local/lib/python3.10/dist-packages (from ipython>=4.0->ipythonblocks) (3.0.38)\n",
            "Collecting jedi>=0.16\n",
            "  Downloading jedi-0.18.2-py2.py3-none-any.whl (1.6 MB)\n",
            "\u001b[2K     \u001b[90m━━━━━━━━━━━━━━━━━━━━━━━━━━━━━━━━━━━━━━━━\u001b[0m \u001b[32m1.6/1.6 MB\u001b[0m \u001b[31m16.4 MB/s\u001b[0m eta \u001b[36m0:00:00\u001b[0m\n",
            "\u001b[?25hRequirement already satisfied: matplotlib-inline in /usr/local/lib/python3.10/dist-packages (from ipython>=4.0->ipythonblocks) (0.1.6)\n",
            "Requirement already satisfied: traitlets>=4.2 in /usr/local/lib/python3.10/dist-packages (from ipython>=4.0->ipythonblocks) (5.7.1)\n",
            "Requirement already satisfied: backcall in /usr/local/lib/python3.10/dist-packages (from ipython>=4.0->ipythonblocks) (0.2.0)\n",
            "Requirement already satisfied: pygments in /usr/local/lib/python3.10/dist-packages (from ipython>=4.0->ipythonblocks) (2.14.0)\n",
            "Requirement already satisfied: pickleshare in /usr/local/lib/python3.10/dist-packages (from ipython>=4.0->ipythonblocks) (0.7.5)\n",
            "Requirement already satisfied: pexpect>4.3 in /usr/local/lib/python3.10/dist-packages (from ipython>=4.0->ipythonblocks) (4.8.0)\n",
            "Requirement already satisfied: decorator in /usr/local/lib/python3.10/dist-packages (from ipython>=4.0->ipythonblocks) (4.4.2)\n",
            "Requirement already satisfied: setuptools>=18.5 in /usr/local/lib/python3.10/dist-packages (from ipython>=4.0->ipythonblocks) (67.7.2)\n",
            "Requirement already satisfied: ipykernel in /usr/local/lib/python3.10/dist-packages (from notebook>=4.0->ipythonblocks) (5.5.6)\n",
            "Requirement already satisfied: ipython-genutils in /usr/local/lib/python3.10/dist-packages (from notebook>=4.0->ipythonblocks) (0.2.0)\n",
            "Requirement already satisfied: nbformat in /usr/local/lib/python3.10/dist-packages (from notebook>=4.0->ipythonblocks) (5.8.0)\n",
            "Requirement already satisfied: prometheus-client in /usr/local/lib/python3.10/dist-packages (from notebook>=4.0->ipythonblocks) (0.16.0)\n",
            "Requirement already satisfied: nest-asyncio>=1.5 in /usr/local/lib/python3.10/dist-packages (from notebook>=4.0->ipythonblocks) (1.5.6)\n",
            "Requirement already satisfied: jinja2 in /usr/local/lib/python3.10/dist-packages (from notebook>=4.0->ipythonblocks) (3.1.2)\n",
            "Requirement already satisfied: nbconvert in /usr/local/lib/python3.10/dist-packages (from notebook>=4.0->ipythonblocks) (6.5.4)\n",
            "Requirement already satisfied: terminado>=0.8.3 in /usr/local/lib/python3.10/dist-packages (from notebook>=4.0->ipythonblocks) (0.17.1)\n",
            "Requirement already satisfied: jupyter-client>=5.3.4 in /usr/local/lib/python3.10/dist-packages (from notebook>=4.0->ipythonblocks) (6.1.12)\n",
            "Requirement already satisfied: pyzmq>=17 in /usr/local/lib/python3.10/dist-packages (from notebook>=4.0->ipythonblocks) (23.2.1)\n",
            "Requirement already satisfied: argon2-cffi in /usr/local/lib/python3.10/dist-packages (from notebook>=4.0->ipythonblocks) (21.3.0)\n",
            "Requirement already satisfied: jupyter-core>=4.6.1 in /usr/local/lib/python3.10/dist-packages (from notebook>=4.0->ipythonblocks) (5.3.0)\n",
            "Requirement already satisfied: Send2Trash>=1.8.0 in /usr/local/lib/python3.10/dist-packages (from notebook>=4.0->ipythonblocks) (1.8.0)\n",
            "Requirement already satisfied: tornado>=6.1 in /usr/local/lib/python3.10/dist-packages (from notebook>=4.0->ipythonblocks) (6.2)\n",
            "Requirement already satisfied: charset-normalizer~=2.0.0 in /usr/local/lib/python3.10/dist-packages (from requests>=1.0->ipythonblocks) (2.0.12)\n",
            "Requirement already satisfied: certifi>=2017.4.17 in /usr/local/lib/python3.10/dist-packages (from requests>=1.0->ipythonblocks) (2022.12.7)\n",
            "Requirement already satisfied: urllib3<1.27,>=1.21.1 in /usr/local/lib/python3.10/dist-packages (from requests>=1.0->ipythonblocks) (1.26.15)\n",
            "Requirement already satisfied: idna<4,>=2.5 in /usr/local/lib/python3.10/dist-packages (from requests>=1.0->ipythonblocks) (3.4)\n",
            "Requirement already satisfied: parso<0.9.0,>=0.8.0 in /usr/local/lib/python3.10/dist-packages (from jedi>=0.16->ipython>=4.0->ipythonblocks) (0.8.3)\n",
            "Requirement already satisfied: python-dateutil>=2.1 in /usr/local/lib/python3.10/dist-packages (from jupyter-client>=5.3.4->notebook>=4.0->ipythonblocks) (2.8.2)\n",
            "Requirement already satisfied: platformdirs>=2.5 in /usr/local/lib/python3.10/dist-packages (from jupyter-core>=4.6.1->notebook>=4.0->ipythonblocks) (3.3.0)\n",
            "Requirement already satisfied: ptyprocess>=0.5 in /usr/local/lib/python3.10/dist-packages (from pexpect>4.3->ipython>=4.0->ipythonblocks) (0.7.0)\n",
            "Requirement already satisfied: wcwidth in /usr/local/lib/python3.10/dist-packages (from prompt-toolkit!=3.0.0,!=3.0.1,<3.1.0,>=2.0.0->ipython>=4.0->ipythonblocks) (0.2.6)\n",
            "Requirement already satisfied: argon2-cffi-bindings in /usr/local/lib/python3.10/dist-packages (from argon2-cffi->notebook>=4.0->ipythonblocks) (21.2.0)\n",
            "Requirement already satisfied: MarkupSafe>=2.0 in /usr/local/lib/python3.10/dist-packages (from jinja2->notebook>=4.0->ipythonblocks) (2.1.2)\n",
            "Requirement already satisfied: defusedxml in /usr/local/lib/python3.10/dist-packages (from nbconvert->notebook>=4.0->ipythonblocks) (0.7.1)\n",
            "Requirement already satisfied: tinycss2 in /usr/local/lib/python3.10/dist-packages (from nbconvert->notebook>=4.0->ipythonblocks) (1.2.1)\n",
            "Requirement already satisfied: lxml in /usr/local/lib/python3.10/dist-packages (from nbconvert->notebook>=4.0->ipythonblocks) (4.9.2)\n",
            "Requirement already satisfied: entrypoints>=0.2.2 in /usr/local/lib/python3.10/dist-packages (from nbconvert->notebook>=4.0->ipythonblocks) (0.4)\n",
            "Requirement already satisfied: nbclient>=0.5.0 in /usr/local/lib/python3.10/dist-packages (from nbconvert->notebook>=4.0->ipythonblocks) (0.7.4)\n",
            "Requirement already satisfied: jupyterlab-pygments in /usr/local/lib/python3.10/dist-packages (from nbconvert->notebook>=4.0->ipythonblocks) (0.2.2)\n",
            "Requirement already satisfied: mistune<2,>=0.8.1 in /usr/local/lib/python3.10/dist-packages (from nbconvert->notebook>=4.0->ipythonblocks) (0.8.4)\n",
            "Requirement already satisfied: pandocfilters>=1.4.1 in /usr/local/lib/python3.10/dist-packages (from nbconvert->notebook>=4.0->ipythonblocks) (1.5.0)\n",
            "Requirement already satisfied: packaging in /usr/local/lib/python3.10/dist-packages (from nbconvert->notebook>=4.0->ipythonblocks) (23.1)\n",
            "Requirement already satisfied: bleach in /usr/local/lib/python3.10/dist-packages (from nbconvert->notebook>=4.0->ipythonblocks) (6.0.0)\n",
            "Requirement already satisfied: beautifulsoup4 in /usr/local/lib/python3.10/dist-packages (from nbconvert->notebook>=4.0->ipythonblocks) (4.11.2)\n",
            "Requirement already satisfied: jsonschema>=2.6 in /usr/local/lib/python3.10/dist-packages (from nbformat->notebook>=4.0->ipythonblocks) (4.3.3)\n",
            "Requirement already satisfied: fastjsonschema in /usr/local/lib/python3.10/dist-packages (from nbformat->notebook>=4.0->ipythonblocks) (2.16.3)\n",
            "Requirement already satisfied: attrs>=17.4.0 in /usr/local/lib/python3.10/dist-packages (from jsonschema>=2.6->nbformat->notebook>=4.0->ipythonblocks) (23.1.0)\n",
            "Requirement already satisfied: pyrsistent!=0.17.0,!=0.17.1,!=0.17.2,>=0.14.0 in /usr/local/lib/python3.10/dist-packages (from jsonschema>=2.6->nbformat->notebook>=4.0->ipythonblocks) (0.19.3)\n",
            "Requirement already satisfied: six>=1.5 in /usr/local/lib/python3.10/dist-packages (from python-dateutil>=2.1->jupyter-client>=5.3.4->notebook>=4.0->ipythonblocks) (1.16.0)\n",
            "Requirement already satisfied: cffi>=1.0.1 in /usr/local/lib/python3.10/dist-packages (from argon2-cffi-bindings->argon2-cffi->notebook>=4.0->ipythonblocks) (1.15.1)\n",
            "Requirement already satisfied: soupsieve>1.2 in /usr/local/lib/python3.10/dist-packages (from beautifulsoup4->nbconvert->notebook>=4.0->ipythonblocks) (2.4.1)\n",
            "Requirement already satisfied: webencodings in /usr/local/lib/python3.10/dist-packages (from bleach->nbconvert->notebook>=4.0->ipythonblocks) (0.5.1)\n",
            "Requirement already satisfied: pycparser in /usr/local/lib/python3.10/dist-packages (from cffi>=1.0.1->argon2-cffi-bindings->argon2-cffi->notebook>=4.0->ipythonblocks) (2.21)\n",
            "Installing collected packages: jedi, ipythonblocks\n",
            "Successfully installed ipythonblocks-1.9.0 jedi-0.18.2\n"
          ]
        }
      ],
      "source": [
        "!git clone https://github.com/aimacode/aima-python.git\n",
        "%cd aima-python\n",
        "!pip -r install requirements.txt\n",
        "!git submodule init\n",
        "!git submodule update\n",
        "\n",
        "!pip install ipythonblocks"
      ]
    },
    {
      "cell_type": "code",
      "source": [
        "from utils import *\n",
        "from logic import *"
      ],
      "metadata": {
        "id": "MNecofXOByy0"
      },
      "execution_count": null,
      "outputs": []
    },
    {
      "cell_type": "code",
      "source": [
        "BC = FolKB()"
      ],
      "metadata": {
        "id": "tzGDqjw7B38E"
      },
      "execution_count": null,
      "outputs": []
    },
    {
      "cell_type": "code",
      "source": [
        "# Tools\n",
        "BC.tell(expr('Tool(Pan)'))\n",
        "BC.tell(expr('Tool(Pot)'))\n",
        "BC.tell(expr('Tool(Grater)'))\n",
        "BC.tell(expr('Tool(CuttingBoard)'))\n",
        "BC.tell(expr('Tool(Mixer)'))\n",
        "\n",
        "# Quantities\n",
        "BC.tell(expr('Quantity(Few)'))\n",
        "BC.tell(expr('Quantity(Med)'))\n",
        "BC.tell(expr('Quantity(Much)'))\n",
        "\n",
        "#Ingredients\n",
        "\n",
        "\n",
        "# Rules\n",
        "    # Quantities\n",
        "BC.tell(expr('HaveIngredient(x, Much) ==> HaveIngredient(x, Med)'))\n",
        "BC.tell(expr('HaveIngredient(x, Med) ==> HaveIngredient(x, Few)'))\n",
        "\n",
        "    # Recipies\n",
        "BC.tell(expr('HaveIngredient(Tomato, Medium) & HaveTool(Pan) & Have(Pepper, Much) ==> CanMake(Hmiss)'))  "
      ],
      "metadata": {
        "id": "csoTsQoJgn-k"
      },
      "execution_count": null,
      "outputs": []
    },
    {
      "cell_type": "code",
      "source": [
        "BC.tell(expr('Ingredient(Chicken)'))\n",
        "BC.tell(expr('Ingredient(Rice)'))\n",
        "BC.tell(expr('Ingredient(Broccoli)'))\n",
        "BC.tell(expr('Ingredient(pepper)'))\n",
        "BC.tell(expr('Ingredient(Onion)'))\n",
        "BC.tell(expr('Ingredient(Garlic)'))\n",
        "BC.tell(expr('Ingredient(Tomato)'))\n",
        "BC.tell(expr('Ingredient(beef)'))\n",
        "BC.tell(expr('Ingredient(Pasta)'))\n",
        "BC.tell(expr('Ingredient(Cheese)'))\n",
        "\n",
        "\n",
        "\"\"\"\n",
        "Chicken_and_broccoli_stir_fry: chicken + broccoli + onion + garlic\n",
        "Beef and broccoli stir-fry: ground beef + broccoli + onion + garlic\n",
        "Cheesy broccoli and rice casserole: rice + broccoli + cheese\n",
        "Chicken and rice casserole: chicken breast + rice + cheese\n",
        "Stuffed bell peppers: ground beef + bell pepper + rice + cheese\n",
        "Chicken and vegetable soup: chicken breast + broccoli + bell pepper + onion + garlic + tomato\n",
        "Beef and vegetable soup: ground beef + broccoli + bell pepper + onion + garlic + tomato\n",
        "Cheesy pasta bake: pasta + tomato + cheese\n",
        "Beef and onion stir-fry: ground beef + onion + garlic\n",
        "Cheesy chicken pasta: chicken breast + pasta + cheese\n",
        "Chicken fajitas: chicken breast + bell pepper + onion + garlic\n",
        "Beef tacos: ground beef + tomato + onion + garlic\n",
        "Cheesy tomato and rice casserole: rice + tomato + cheese\n",
        "Broccoli and cheese soup: broccoli + cheese + onion + garlic\n",
        "Chicken alfredo pasta: chicken breast + pasta + cheese\n",
        "Beef and broccoli casserole: ground beef + broccoli + cheese\n",
        "Cheesy garlic bread: garlic + cheese\n",
        "Tomato and cheese omelet: tomato + cheese\n",
        "Beef and cheese quesadillas: ground beef + cheese + onion + garlic\n",
        "Chicken and cheese quesadillas: chicken breast + cheese + bell pepper + onion.\n",
        "\n",
        "\n",
        "\"\"\"\n",
        "\n",
        "\n",
        "\n",
        "\n",
        "\n",
        "\n",
        "\n",
        "\n",
        "\n",
        "\n",
        "\n",
        "\n"
      ],
      "metadata": {
        "id": "HEHi0DO1bEfp"
      },
      "execution_count": null,
      "outputs": []
    }
  ]
}