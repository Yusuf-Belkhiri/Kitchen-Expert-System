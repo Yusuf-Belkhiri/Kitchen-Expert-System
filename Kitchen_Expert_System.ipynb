{
  "cells": [
    {
      "cell_type": "markdown",
      "metadata": {
        "colab_type": "text",
        "id": "view-in-github"
      },
      "source": [
        "<a href=\"https://colab.research.google.com/github/Yusuf-Belkhiri/Kitchen-Expert-System/blob/main/Kitchen_Expert_System.ipynb\" target=\"_parent\"><img src=\"https://colab.research.google.com/assets/colab-badge.svg\" alt=\"Open In Colab\"/></a>"
      ]
    },
    {
      "cell_type": "code",
      "execution_count": 1,
      "metadata": {
        "colab": {
          "base_uri": "https://localhost:8080/"
        },
        "id": "IAqiQr_S_DNf",
        "outputId": "8941a3f1-2d99-4d02-91e9-538b570c948f"
      },
      "outputs": [
        {
          "name": "stdout",
          "output_type": "stream",
          "text": [
            "[WinError 2] Le fichier spécifié est introuvable: 'aima-python'\n",
            "d:\\1CS2\\AI\\Project\\Kitchen-Expert-System\n"
          ]
        },
        {
          "name": "stderr",
          "output_type": "stream",
          "text": [
            "Cloning into 'aima-python'...\n",
            "fatal: unable to access 'https://github.com/aimacode/aima-python.git/': Could not resolve host: github.com\n",
            "\n",
            "Usage:   \n",
            "  pip <command> [options]\n",
            "\n",
            "no such option: -r\n"
          ]
        },
        {
          "name": "stdout",
          "output_type": "stream",
          "text": [
            "Requirement already satisfied: ipythonblocks in c:\\users\\ouss\\appdata\\local\\programs\\python\\python38\\lib\\site-packages (1.9.0)"
          ]
        },
        {
          "name": "stderr",
          "output_type": "stream",
          "text": [
            "\n",
            "[notice] A new release of pip is available: 23.0.1 -> 23.1.2\n",
            "[notice] To update, run: python.exe -m pip install --upgrade pip\n"
          ]
        },
        {
          "name": "stdout",
          "output_type": "stream",
          "text": [
            "\n",
            "Requirement already satisfied: ipython>=4.0 in c:\\users\\ouss\\appdata\\local\\programs\\python\\python38\\lib\\site-packages (from ipythonblocks) (8.12.0)\n",
            "Requirement already satisfied: requests>=1.0 in c:\\users\\ouss\\appdata\\local\\programs\\python\\python38\\lib\\site-packages (from ipythonblocks) (2.28.2)\n",
            "Requirement already satisfied: notebook>=4.0 in c:\\users\\ouss\\appdata\\local\\programs\\python\\python38\\lib\\site-packages (from ipythonblocks) (6.5.4)\n",
            "Requirement already satisfied: colorama in c:\\users\\ouss\\appdata\\local\\programs\\python\\python38\\lib\\site-packages (from ipython>=4.0->ipythonblocks) (0.4.6)\n",
            "Requirement already satisfied: traitlets>=5 in c:\\users\\ouss\\appdata\\local\\programs\\python\\python38\\lib\\site-packages (from ipython>=4.0->ipythonblocks) (5.9.0)\n",
            "Requirement already satisfied: pickleshare in c:\\users\\ouss\\appdata\\local\\programs\\python\\python38\\lib\\site-packages (from ipython>=4.0->ipythonblocks) (0.7.5)\n",
            "Requirement already satisfied: typing-extensions in c:\\users\\ouss\\appdata\\local\\programs\\python\\python38\\lib\\site-packages (from ipython>=4.0->ipythonblocks) (4.5.0)\n",
            "Requirement already satisfied: matplotlib-inline in c:\\users\\ouss\\appdata\\local\\programs\\python\\python38\\lib\\site-packages (from ipython>=4.0->ipythonblocks) (0.1.6)\n",
            "Requirement already satisfied: jedi>=0.16 in c:\\users\\ouss\\appdata\\local\\programs\\python\\python38\\lib\\site-packages (from ipython>=4.0->ipythonblocks) (0.18.2)\n",
            "Requirement already satisfied: stack-data in c:\\users\\ouss\\appdata\\local\\programs\\python\\python38\\lib\\site-packages (from ipython>=4.0->ipythonblocks) (0.6.2)\n",
            "Requirement already satisfied: backcall in c:\\users\\ouss\\appdata\\local\\programs\\python\\python38\\lib\\site-packages (from ipython>=4.0->ipythonblocks) (0.2.0)\n",
            "Requirement already satisfied: prompt-toolkit!=3.0.37,<3.1.0,>=3.0.30 in c:\\users\\ouss\\appdata\\local\\programs\\python\\python38\\lib\\site-packages (from ipython>=4.0->ipythonblocks) (3.0.38)\n",
            "Requirement already satisfied: pygments>=2.4.0 in c:\\users\\ouss\\appdata\\local\\programs\\python\\python38\\lib\\site-packages (from ipython>=4.0->ipythonblocks) (2.15.0)\n",
            "Requirement already satisfied: decorator in c:\\users\\ouss\\appdata\\local\\programs\\python\\python38\\lib\\site-packages (from ipython>=4.0->ipythonblocks) (5.1.1)\n",
            "Requirement already satisfied: argon2-cffi in c:\\users\\ouss\\appdata\\local\\programs\\python\\python38\\lib\\site-packages (from notebook>=4.0->ipythonblocks) (21.3.0)\n",
            "Requirement already satisfied: ipython-genutils in c:\\users\\ouss\\appdata\\local\\programs\\python\\python38\\lib\\site-packages (from notebook>=4.0->ipythonblocks) (0.2.0)\n",
            "Requirement already satisfied: Send2Trash>=1.8.0 in c:\\users\\ouss\\appdata\\local\\programs\\python\\python38\\lib\\site-packages (from notebook>=4.0->ipythonblocks) (1.8.0)\n",
            "Requirement already satisfied: nbconvert>=5 in c:\\users\\ouss\\appdata\\local\\programs\\python\\python38\\lib\\site-packages (from notebook>=4.0->ipythonblocks) (7.3.1)\n",
            "Requirement already satisfied: pyzmq>=17 in c:\\users\\ouss\\appdata\\local\\programs\\python\\python38\\lib\\site-packages (from notebook>=4.0->ipythonblocks) (25.0.2)\n",
            "Requirement already satisfied: tornado>=6.1 in c:\\users\\ouss\\appdata\\local\\programs\\python\\python38\\lib\\site-packages (from notebook>=4.0->ipythonblocks) (6.2)\n",
            "Requirement already satisfied: nbclassic>=0.4.7 in c:\\users\\ouss\\appdata\\local\\programs\\python\\python38\\lib\\site-packages (from notebook>=4.0->ipythonblocks) (0.5.5)\n",
            "Requirement already satisfied: terminado>=0.8.3 in c:\\users\\ouss\\appdata\\local\\programs\\python\\python38\\lib\\site-packages (from notebook>=4.0->ipythonblocks) (0.17.1)\n",
            "Requirement already satisfied: jinja2 in c:\\users\\ouss\\appdata\\local\\programs\\python\\python38\\lib\\site-packages (from notebook>=4.0->ipythonblocks) (3.1.2)\n",
            "Requirement already satisfied: nbformat in c:\\users\\ouss\\appdata\\local\\programs\\python\\python38\\lib\\site-packages (from notebook>=4.0->ipythonblocks) (5.8.0)\n",
            "Requirement already satisfied: nest-asyncio>=1.5 in c:\\users\\ouss\\appdata\\local\\programs\\python\\python38\\lib\\site-packages (from notebook>=4.0->ipythonblocks) (1.5.6)\n",
            "Requirement already satisfied: ipykernel in c:\\users\\ouss\\appdata\\local\\programs\\python\\python38\\lib\\site-packages (from notebook>=4.0->ipythonblocks) (6.22.0)\n",
            "Requirement already satisfied: jupyter-core>=4.6.1 in c:\\users\\ouss\\appdata\\local\\programs\\python\\python38\\lib\\site-packages (from notebook>=4.0->ipythonblocks) (5.3.0)\n",
            "Requirement already satisfied: prometheus-client in c:\\users\\ouss\\appdata\\local\\programs\\python\\python38\\lib\\site-packages (from notebook>=4.0->ipythonblocks) (0.16.0)\n",
            "Requirement already satisfied: jupyter-client>=5.3.4 in c:\\users\\ouss\\appdata\\local\\programs\\python\\python38\\lib\\site-packages (from notebook>=4.0->ipythonblocks) (8.1.0)\n",
            "Requirement already satisfied: certifi>=2017.4.17 in c:\\users\\ouss\\appdata\\local\\programs\\python\\python38\\lib\\site-packages (from requests>=1.0->ipythonblocks) (2022.12.7)\n",
            "Requirement already satisfied: idna<4,>=2.5 in c:\\users\\ouss\\appdata\\local\\programs\\python\\python38\\lib\\site-packages (from requests>=1.0->ipythonblocks) (3.4)\n",
            "Requirement already satisfied: urllib3<1.27,>=1.21.1 in c:\\users\\ouss\\appdata\\local\\programs\\python\\python38\\lib\\site-packages (from requests>=1.0->ipythonblocks) (1.26.15)\n",
            "Requirement already satisfied: charset-normalizer<4,>=2 in c:\\users\\ouss\\appdata\\local\\programs\\python\\python38\\lib\\site-packages (from requests>=1.0->ipythonblocks) (3.1.0)\n",
            "Requirement already satisfied: parso<0.9.0,>=0.8.0 in c:\\users\\ouss\\appdata\\local\\programs\\python\\python38\\lib\\site-packages (from jedi>=0.16->ipython>=4.0->ipythonblocks) (0.8.3)\n",
            "Requirement already satisfied: importlib-metadata>=4.8.3 in c:\\users\\ouss\\appdata\\local\\programs\\python\\python38\\lib\\site-packages (from jupyter-client>=5.3.4->notebook>=4.0->ipythonblocks) (6.0.0)\n",
            "Requirement already satisfied: python-dateutil>=2.8.2 in c:\\users\\ouss\\appdata\\local\\programs\\python\\python38\\lib\\site-packages (from jupyter-client>=5.3.4->notebook>=4.0->ipythonblocks) (2.8.2)\n",
            "Requirement already satisfied: pywin32>=300 in c:\\users\\ouss\\appdata\\local\\programs\\python\\python38\\lib\\site-packages (from jupyter-core>=4.6.1->notebook>=4.0->ipythonblocks) (306)\n",
            "Requirement already satisfied: platformdirs>=2.5 in c:\\users\\ouss\\appdata\\local\\programs\\python\\python38\\lib\\site-packages (from jupyter-core>=4.6.1->notebook>=4.0->ipythonblocks) (2.5.4)\n",
            "Requirement already satisfied: notebook-shim>=0.1.0 in c:\\users\\ouss\\appdata\\local\\programs\\python\\python38\\lib\\site-packages (from nbclassic>=0.4.7->notebook>=4.0->ipythonblocks) (0.2.2)\n",
            "Requirement already satisfied: jupyter-server>=1.8 in c:\\users\\ouss\\appdata\\local\\programs\\python\\python38\\lib\\site-packages (from nbclassic>=0.4.7->notebook>=4.0->ipythonblocks) (2.5.0)\n",
            "Requirement already satisfied: markupsafe>=2.0 in c:\\users\\ouss\\appdata\\local\\programs\\python\\python38\\lib\\site-packages (from nbconvert>=5->notebook>=4.0->ipythonblocks) (2.1.1)\n",
            "Requirement already satisfied: defusedxml in c:\\users\\ouss\\appdata\\local\\programs\\python\\python38\\lib\\site-packages (from nbconvert>=5->notebook>=4.0->ipythonblocks) (0.7.1)\n",
            "Requirement already satisfied: packaging in c:\\users\\ouss\\appdata\\local\\programs\\python\\python38\\lib\\site-packages (from nbconvert>=5->notebook>=4.0->ipythonblocks) (21.3)\n",
            "Requirement already satisfied: tinycss2 in c:\\users\\ouss\\appdata\\local\\programs\\python\\python38\\lib\\site-packages (from nbconvert>=5->notebook>=4.0->ipythonblocks) (1.2.1)\n",
            "Requirement already satisfied: bleach in c:\\users\\ouss\\appdata\\local\\programs\\python\\python38\\lib\\site-packages (from nbconvert>=5->notebook>=4.0->ipythonblocks) (6.0.0)\n",
            "Requirement already satisfied: jupyterlab-pygments in c:\\users\\ouss\\appdata\\local\\programs\\python\\python38\\lib\\site-packages (from nbconvert>=5->notebook>=4.0->ipythonblocks) (0.2.2)\n",
            "Requirement already satisfied: mistune<3,>=2.0.3 in c:\\users\\ouss\\appdata\\local\\programs\\python\\python38\\lib\\site-packages (from nbconvert>=5->notebook>=4.0->ipythonblocks) (2.0.5)\n",
            "Requirement already satisfied: beautifulsoup4 in c:\\users\\ouss\\appdata\\local\\programs\\python\\python38\\lib\\site-packages (from nbconvert>=5->notebook>=4.0->ipythonblocks) (4.12.2)\n",
            "Requirement already satisfied: nbclient>=0.5.0 in c:\\users\\ouss\\appdata\\local\\programs\\python\\python38\\lib\\site-packages (from nbconvert>=5->notebook>=4.0->ipythonblocks) (0.7.3)\n",
            "Requirement already satisfied: pandocfilters>=1.4.1 in c:\\users\\ouss\\appdata\\local\\programs\\python\\python38\\lib\\site-packages (from nbconvert>=5->notebook>=4.0->ipythonblocks) (1.5.0)\n",
            "Requirement already satisfied: fastjsonschema in c:\\users\\ouss\\appdata\\local\\programs\\python\\python38\\lib\\site-packages (from nbformat->notebook>=4.0->ipythonblocks) (2.16.3)\n",
            "Requirement already satisfied: jsonschema>=2.6 in c:\\users\\ouss\\appdata\\local\\programs\\python\\python38\\lib\\site-packages (from nbformat->notebook>=4.0->ipythonblocks) (4.17.3)\n",
            "Requirement already satisfied: wcwidth in c:\\users\\ouss\\appdata\\local\\programs\\python\\python38\\lib\\site-packages (from prompt-toolkit!=3.0.37,<3.1.0,>=3.0.30->ipython>=4.0->ipythonblocks) (0.2.6)\n",
            "Requirement already satisfied: pywinpty>=1.1.0 in c:\\users\\ouss\\appdata\\local\\programs\\python\\python38\\lib\\site-packages (from terminado>=0.8.3->notebook>=4.0->ipythonblocks) (2.0.10)\n",
            "Requirement already satisfied: argon2-cffi-bindings in c:\\users\\ouss\\appdata\\local\\programs\\python\\python38\\lib\\site-packages (from argon2-cffi->notebook>=4.0->ipythonblocks) (21.2.0)\n",
            "Requirement already satisfied: psutil in c:\\users\\ouss\\appdata\\local\\programs\\python\\python38\\lib\\site-packages (from ipykernel->notebook>=4.0->ipythonblocks) (5.9.4)\n",
            "Requirement already satisfied: comm>=0.1.1 in c:\\users\\ouss\\appdata\\local\\programs\\python\\python38\\lib\\site-packages (from ipykernel->notebook>=4.0->ipythonblocks) (0.1.3)\n",
            "Requirement already satisfied: debugpy>=1.6.5 in c:\\users\\ouss\\appdata\\local\\programs\\python\\python38\\lib\\site-packages (from ipykernel->notebook>=4.0->ipythonblocks) (1.6.7)\n",
            "Requirement already satisfied: asttokens>=2.1.0 in c:\\users\\ouss\\appdata\\local\\programs\\python\\python38\\lib\\site-packages (from stack-data->ipython>=4.0->ipythonblocks) (2.2.1)\n",
            "Requirement already satisfied: pure-eval in c:\\users\\ouss\\appdata\\local\\programs\\python\\python38\\lib\\site-packages (from stack-data->ipython>=4.0->ipythonblocks) (0.2.2)\n",
            "Requirement already satisfied: executing>=1.2.0 in c:\\users\\ouss\\appdata\\local\\programs\\python\\python38\\lib\\site-packages (from stack-data->ipython>=4.0->ipythonblocks) (1.2.0)\n",
            "Requirement already satisfied: six in c:\\users\\ouss\\appdata\\local\\programs\\python\\python38\\lib\\site-packages (from asttokens>=2.1.0->stack-data->ipython>=4.0->ipythonblocks) (1.16.0)\n",
            "Requirement already satisfied: zipp>=0.5 in c:\\users\\ouss\\appdata\\local\\programs\\python\\python38\\lib\\site-packages (from importlib-metadata>=4.8.3->jupyter-client>=5.3.4->notebook>=4.0->ipythonblocks) (3.11.0)\n",
            "Requirement already satisfied: importlib-resources>=1.4.0 in c:\\users\\ouss\\appdata\\local\\programs\\python\\python38\\lib\\site-packages (from jsonschema>=2.6->nbformat->notebook>=4.0->ipythonblocks) (5.12.0)\n",
            "Requirement already satisfied: pkgutil-resolve-name>=1.3.10 in c:\\users\\ouss\\appdata\\local\\programs\\python\\python38\\lib\\site-packages (from jsonschema>=2.6->nbformat->notebook>=4.0->ipythonblocks) (1.3.10)\n",
            "Requirement already satisfied: pyrsistent!=0.17.0,!=0.17.1,!=0.17.2,>=0.14.0 in c:\\users\\ouss\\appdata\\local\\programs\\python\\python38\\lib\\site-packages (from jsonschema>=2.6->nbformat->notebook>=4.0->ipythonblocks) (0.19.3)\n",
            "Requirement already satisfied: attrs>=17.4.0 in c:\\users\\ouss\\appdata\\local\\programs\\python\\python38\\lib\\site-packages (from jsonschema>=2.6->nbformat->notebook>=4.0->ipythonblocks) (22.2.0)\n",
            "Requirement already satisfied: anyio>=3.1.0 in c:\\users\\ouss\\appdata\\local\\programs\\python\\python38\\lib\\site-packages (from jupyter-server>=1.8->nbclassic>=0.4.7->notebook>=4.0->ipythonblocks) (3.6.2)\n",
            "Requirement already satisfied: websocket-client in c:\\users\\ouss\\appdata\\local\\programs\\python\\python38\\lib\\site-packages (from jupyter-server>=1.8->nbclassic>=0.4.7->notebook>=4.0->ipythonblocks) (1.5.1)\n",
            "Requirement already satisfied: jupyter-events>=0.4.0 in c:\\users\\ouss\\appdata\\local\\programs\\python\\python38\\lib\\site-packages (from jupyter-server>=1.8->nbclassic>=0.4.7->notebook>=4.0->ipythonblocks) (0.6.3)\n",
            "Requirement already satisfied: jupyter-server-terminals in c:\\users\\ouss\\appdata\\local\\programs\\python\\python38\\lib\\site-packages (from jupyter-server>=1.8->nbclassic>=0.4.7->notebook>=4.0->ipythonblocks) (0.4.4)\n",
            "Requirement already satisfied: cffi>=1.0.1 in c:\\users\\ouss\\appdata\\local\\programs\\python\\python38\\lib\\site-packages (from argon2-cffi-bindings->argon2-cffi->notebook>=4.0->ipythonblocks) (1.15.1)\n",
            "Requirement already satisfied: soupsieve>1.2 in c:\\users\\ouss\\appdata\\local\\programs\\python\\python38\\lib\\site-packages (from beautifulsoup4->nbconvert>=5->notebook>=4.0->ipythonblocks) (2.4)\n",
            "Requirement already satisfied: webencodings in c:\\users\\ouss\\appdata\\local\\programs\\python\\python38\\lib\\site-packages (from bleach->nbconvert>=5->notebook>=4.0->ipythonblocks) (0.5.1)\n",
            "Requirement already satisfied: pyparsing!=3.0.5,>=2.0.2 in c:\\users\\ouss\\appdata\\local\\programs\\python\\python38\\lib\\site-packages (from packaging->nbconvert>=5->notebook>=4.0->ipythonblocks) (3.0.7)\n",
            "Requirement already satisfied: sniffio>=1.1 in c:\\users\\ouss\\appdata\\local\\programs\\python\\python38\\lib\\site-packages (from anyio>=3.1.0->jupyter-server>=1.8->nbclassic>=0.4.7->notebook>=4.0->ipythonblocks) (1.3.0)\n",
            "Requirement already satisfied: pycparser in c:\\users\\ouss\\appdata\\local\\programs\\python\\python38\\lib\\site-packages (from cffi>=1.0.1->argon2-cffi-bindings->argon2-cffi->notebook>=4.0->ipythonblocks) (2.21)\n",
            "Requirement already satisfied: rfc3339-validator in c:\\users\\ouss\\appdata\\local\\programs\\python\\python38\\lib\\site-packages (from jupyter-events>=0.4.0->jupyter-server>=1.8->nbclassic>=0.4.7->notebook>=4.0->ipythonblocks) (0.1.4)\n",
            "Requirement already satisfied: pyyaml>=5.3 in c:\\users\\ouss\\appdata\\local\\programs\\python\\python38\\lib\\site-packages (from jupyter-events>=0.4.0->jupyter-server>=1.8->nbclassic>=0.4.7->notebook>=4.0->ipythonblocks) (6.0)\n",
            "Requirement already satisfied: rfc3986-validator>=0.1.1 in c:\\users\\ouss\\appdata\\local\\programs\\python\\python38\\lib\\site-packages (from jupyter-events>=0.4.0->jupyter-server>=1.8->nbclassic>=0.4.7->notebook>=4.0->ipythonblocks) (0.1.1)\n",
            "Requirement already satisfied: python-json-logger>=2.0.4 in c:\\users\\ouss\\appdata\\local\\programs\\python\\python38\\lib\\site-packages (from jupyter-events>=0.4.0->jupyter-server>=1.8->nbclassic>=0.4.7->notebook>=4.0->ipythonblocks) (2.0.7)\n",
            "Requirement already satisfied: isoduration in c:\\users\\ouss\\appdata\\local\\programs\\python\\python38\\lib\\site-packages (from jsonschema>=2.6->nbformat->notebook>=4.0->ipythonblocks) (20.11.0)\n",
            "Requirement already satisfied: webcolors>=1.11 in c:\\users\\ouss\\appdata\\local\\programs\\python\\python38\\lib\\site-packages (from jsonschema>=2.6->nbformat->notebook>=4.0->ipythonblocks) (1.13)\n",
            "Requirement already satisfied: jsonpointer>1.13 in c:\\users\\ouss\\appdata\\local\\programs\\python\\python38\\lib\\site-packages (from jsonschema>=2.6->nbformat->notebook>=4.0->ipythonblocks) (2.3)\n",
            "Requirement already satisfied: fqdn in c:\\users\\ouss\\appdata\\local\\programs\\python\\python38\\lib\\site-packages (from jsonschema>=2.6->nbformat->notebook>=4.0->ipythonblocks) (1.5.1)\n",
            "Requirement already satisfied: uri-template in c:\\users\\ouss\\appdata\\local\\programs\\python\\python38\\lib\\site-packages (from jsonschema>=2.6->nbformat->notebook>=4.0->ipythonblocks) (1.2.0)\n",
            "Requirement already satisfied: arrow>=0.15.0 in c:\\users\\ouss\\appdata\\local\\programs\\python\\python38\\lib\\site-packages (from isoduration->jsonschema>=2.6->nbformat->notebook>=4.0->ipythonblocks) (1.2.3)\n"
          ]
        }
      ],
      "source": [
        "!git clone https://github.com/aimacode/aima-python.git\n",
        "%cd aima-python\n",
        "!pip -r install requirements.txt\n",
        "!git submodule init\n",
        "!git submodule update\n",
        "\n",
        "!pip install ipythonblocks"
      ]
    },
    {
      "cell_type": "code",
      "execution_count": 3,
      "metadata": {
        "id": "MNecofXOByy0"
      },
      "outputs": [
        {
          "ename": "ModuleNotFoundError",
          "evalue": "No module named 'logic'",
          "output_type": "error",
          "traceback": [
            "\u001b[1;31m---------------------------------------------------------------------------\u001b[0m",
            "\u001b[1;31mModuleNotFoundError\u001b[0m                       Traceback (most recent call last)",
            "Cell \u001b[1;32mIn[3], line 2\u001b[0m\n\u001b[0;32m      1\u001b[0m \u001b[39m# from utils import *\u001b[39;00m\n\u001b[1;32m----> 2\u001b[0m \u001b[39mfrom\u001b[39;00m \u001b[39mlogic\u001b[39;00m \u001b[39mimport\u001b[39;00m \u001b[39m*\u001b[39m\n",
            "\u001b[1;31mModuleNotFoundError\u001b[0m: No module named 'logic'"
          ]
        }
      ],
      "source": [
        "# from utils import *\n",
        "from logic import *"
      ]
    },
    {
      "cell_type": "code",
      "execution_count": null,
      "metadata": {
        "id": "tzGDqjw7B38E"
      },
      "outputs": [],
      "source": [
        "KB = FolKB()"
      ]
    },
    {
      "cell_type": "code",
      "execution_count": null,
      "metadata": {
        "id": "csoTsQoJgn-k"
      },
      "outputs": [],
      "source": [
        "# Tools\n",
        "KB.tell(expr('Tool(Pan)'))\n",
        "KB.tell(expr('Tool(Pot)'))\n",
        "KB.tell(expr('Tool(Grater)'))\n",
        "KB.tell(expr('Tool(CuttingBoard)'))\n",
        "KB.tell(expr('Tool(Mixer)'))\n",
        "\n",
        "# Quantities\n",
        "KB.tell(expr('Quantity(Few)'))\n",
        "KB.tell(expr('Quantity(Med)'))\n",
        "KB.tell(expr('Quantity(Much)'))\n",
        "\n",
        "#Ingredients\n",
        "\n",
        "\n",
        "# Rules\n",
        "    # Quantities\n",
        "KB.tell(expr('HaveIngredient(x, Much) ==> HaveIngredient(x, Med)'))\n",
        "KB.tell(expr('HaveIngredient(x, Med) ==> HaveIngredient(x, Few)'))\n",
        "\n",
        "    # Recipies\n",
        "KB.tell(expr('HaveIngredient(Tomato, Medium) & HaveTool(Pan) & Have(Pepper, Much) ==> CanMake(Hmiss)'))  "
      ]
    },
    {
      "cell_type": "code",
      "execution_count": null,
      "metadata": {
        "id": "HEHi0DO1bEfp"
      },
      "outputs": [],
      "source": [
        "#Ingredients\n",
        "\n",
        "KB.tell(expr('Ingredient(Chicken)'))\n",
        "KB.tell(expr('Ingredient(Rice)'))\n",
        "KB.tell(expr('Ingredient(Broccoli)'))\n",
        "KB.tell(expr('Ingredient(pepper)'))\n",
        "KB.tell(expr('Ingredient(Onion)'))\n",
        "KB.tell(expr('Ingredient(Garlic)'))\n",
        "KB.tell(expr('Ingredient(Tomato)'))\n",
        "KB.tell(expr('Ingredient(beef)'))\n",
        "KB.tell(expr('Ingredient(Pasta)'))\n",
        "KB.tell(expr('Ingredient(Cheese)'))\n",
        "\n",
        "\n",
        "#Queries\n",
        "\n",
        "\n",
        "KB.tell(expr('HaveIngredient(Chicken, Med) & HaveIngredient(Broccoli, Med) & HaveIngredient(Onion, Few) & HaveIngredient(Garlic, Few) & ( HaveTool(Pan) / HaveTool(Pot) ) ==> CanCook(Chicken_and_broccoli_stir_fry)'))\n",
        "\n",
        "\n",
        "KB.tell(expr('HaveIngredient(Beef, Med) & HaveIngredient(Broccoli, Med) & HaveIngredient(Onion, Few) & HaveIngredient(Garlic, Few) & ( HaveTool(Pan) / HaveTool(Pot) ) ==> CanCook(Beef_and_broccoli_stir_fry)'))\n",
        "\n",
        "\n",
        "\n",
        "\n",
        "KB.tell(expr('HaveIngredient(Rice, Much) & HaveIngredient(Broccoli, Few) & HaveIngredient(Cheese, Med) & ( HaveTool(Pan) / HaveTool(Pot) ) ==> CanCook(Cheesy_broccoli_and_rice_casserole)'))\n",
        "\n",
        "\n",
        "\n",
        "\n",
        "KB.tell(expr('HaveIngredient(Chicken, Med) & HaveIngredient(Rice, Much) & HaveIngredient(Cheese, Med) & ( HaveTool(Pan) / HaveTool(Pot) ) ==> CanCook(Chicken_and_rice_casserole)'))\n",
        "\n",
        "\n",
        "\n",
        "KB.tell(expr('HaveIngredient(Beef, Few) & HaveIngredient(Pepper, Med) & HaveIngredient(Rice, Much) & HaveIngredient(Cheese, Few) & ( HaveTool(Pan) / HaveTool(Pot) ) ==> CanCook(Stuffed_peppers)'))\n",
        "\n",
        "\n",
        "\n",
        "\n",
        "KB.tell(expr('HaveIngredient(Chicken, Few) & HaveIngredient(Broccoli, Med) & HaveIngredient(Onion, Few) & HaveIngredient(Pepper, Few) & HaveIngredient(Garlic, Few) & HaveIngredient(Tomato, Med) & HaveTool(Pot) ==> CanCook(Chicken_and_vegetable_soup)'))\n",
        "\n",
        "\n",
        "KB.tell(expr('HaveIngredient(Beef, Few) & HaveIngredient(Broccoli, Med) & HaveIngredient(Onion, Few) & HaveIngredient(Pepper, Few) & HaveIngredient(Garlic, Few) & HaveIngredient(Tomato, Med) & HaveTool(Pot)  ==> CanCook(Beef_and_vegetable_soup)'))\n",
        "\n",
        "\n",
        "\n",
        "KB.tell(expr('HaveIngredient(Pasta, Much) & HaveIngredient(Tomato, Med) & HaveIngredient(Cheese, Med) & ( HaveTool(Pan) / HaveTool(Oven) ) ==> CanCook(Cheesy_pasta_bake)'))\n",
        "\n",
        "\n",
        "\n",
        "\n",
        "KB.tell(expr('HaveIngredient(Beef, Much) & HaveIngredient(Onion, Few) & HaveIngredient(Garlic, Med) & ( HaveTool(Pan) / HaveTool(Oven) ) ==> CanCook(Beef_and_onion_stir_fry)'))\n",
        "\n",
        "\n",
        "\n",
        "KB.tell(expr('HaveIngredient(Chicken, Much) & HaveIngredient(Pasta, Much) & HaveIngredient(Cheese, Med) & HaveTool(Oven) ==> CanCook(Cheesy_Chicken_pasta)'))\n",
        "\n",
        "\n",
        "\n",
        "KB.tell(expr('HaveIngredient(Chicken, Much) & HaveIngredient(peeper, Med) & HaveIngredient(Onion, Few) & HaveIngredient(Garlic, Few) & ( HaveTool(Pan) / HaveTool(Oven) ) ==> CanCook(Chicken_fajitas)'))\n",
        "\n",
        "\n",
        "\n",
        "KB.tell(expr('HaveIngredient(Beef, Much) & HaveIngredient(Tomato, Med) & HaveIngredient(Onion, Few) & HaveIngredient(Garlic, Few) & ( HaveTool(Pan) / HaveTool(Oven) ) ==> CanCook(Beef_tacos)'))\n",
        "\n",
        "\n",
        "\n",
        "KB.tell(expr('HaveIngredient(Rice, Much) & HaveIngredient(Tomato, Med) & HaveIngredient(Cheese, Med) & ( HaveTool(Pan) / HaveTool(Pot) ) ==> CanCook(Cheesy_tomato_and_rice_casserole)'))\n",
        "\n",
        "\n",
        "\n",
        "KB.tell(expr('HaveIngredient(Broccoli, Much) & HaveIngredient(chesse, Med) & HaveIngredient(Onion, Few) & HaveIngredient(Garlic, Few) & HaveTool(Pot) ==> CanCook(Broccoli_and_cheese_soup)'))\n",
        "\n",
        "\n",
        "\n",
        "KB.tell(expr('HaveIngredient(Chicken, Med) & HaveIngredient(Pasta, Much) & HaveIngredient(Cheese, Med) & ( HaveTool(Pan) / HaveTool(Pot) ) ==> CanCook(Chicken_alfredo_pasta)'))\n",
        "\n",
        "\n",
        "\n",
        "KB.tell(expr('HaveIngredient(Beef, Much) & HaveIngredient(Broccoli, Much) & HaveIngredient(Cheese, Med) & HaveIngredient(Garlic, Few) & ( HaveTool(Pan) / HaveTool(Pot) ) ==> CanCook(Beef_and_broccoli_casserole)'))\n",
        "\n",
        "\n",
        "\n",
        "KB.tell(expr('HaveIngredient(Garlic, Few) & HaveIngredient(Cheese, Med) & HaveTool(Pan) ==> CanCook(Cheesy_garlic_bread)'))\n",
        "\n",
        "\n",
        "\n",
        "KB.tell(expr('HaveIngredient(Tomato, Med) & HaveIngredient(Cheese, Much) & HaveTool(Pan) ==> CanCook(Tomato_and_cheese_omelet)'))\n",
        "\n",
        "\n",
        "\n",
        "KB.tell(expr('HaveIngredient(Beef, Med) & HaveIngredient(Cheese, Much) & HaveIngredient(Onion, Med) & HaveIngredient(Garlic, Few) & HaveTool(Oven) ==> CanCook(Beef_and_cheese_quesadillas)'))\n",
        "\n",
        "\n",
        "\n",
        "KB.tell(expr('HaveIngredient(Chicken, Med) & HaveIngredient(Cheese, Much) & HaveIngredient(Onion, Med) & HaveIngredient(Pepper, Few) & HaveTool(Oven) ==> CanCook(Chicken_and_cheese_quesadillas)'))\n"
      ]
    }
  ],
  "metadata": {
    "colab": {
      "include_colab_link": true,
      "provenance": []
    },
    "kernelspec": {
      "display_name": "Python 3",
      "name": "python3"
    },
    "language_info": {
      "codemirror_mode": {
        "name": "ipython",
        "version": 3
      },
      "file_extension": ".py",
      "mimetype": "text/x-python",
      "name": "python",
      "nbconvert_exporter": "python",
      "pygments_lexer": "ipython3",
      "version": "3.8.10"
    }
  },
  "nbformat": 4,
  "nbformat_minor": 0
}
